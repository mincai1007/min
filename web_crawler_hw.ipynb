{
 "cells": [
  {
   "cell_type": "code",
   "execution_count": 2,
   "id": "293fdaa8",
   "metadata": {},
   "outputs": [
    {
     "data": {
      "text/plain": [
       "<Response [503]>"
      ]
     },
     "execution_count": 2,
     "metadata": {},
     "output_type": "execute_result"
    }
   ],
   "source": [
    "import requests\n",
    "\n",
    "#get yelp pages of Chinese food restaurants in Charlestion SC\n",
    "req = requests.get('https://www.yelp.com/search?find_desc=Chinese&find_loc=Charleston%2C%20SC')\n",
    "req"
   ]
  },
  {
   "cell_type": "code",
   "execution_count": null,
   "id": "94b8bdd5",
   "metadata": {},
   "outputs": [],
   "source": [
    "webpage = req.text\n",
    "print(webpage)  #html file"
   ]
  },
  {
   "cell_type": "code",
   "execution_count": null,
   "id": "b0b51cde",
   "metadata": {},
   "outputs": [],
   "source": [
    "from bs4 import BeautifulSoup\n",
    "\n",
    "soup = BeautifulSoup(webpage, 'html.parser')"
   ]
  },
  {
   "cell_type": "code",
   "execution_count": null,
   "id": "aac5ead5",
   "metadata": {},
   "outputs": [],
   "source": [
    "print(soup.prettify())"
   ]
  },
  {
   "cell_type": "code",
   "execution_count": null,
   "id": "9a467069",
   "metadata": {},
   "outputs": [],
   "source": [
    "mains = soup.find_all('h3', {'class': 'css-1agk4wl'})\n",
    "mains"
   ]
  },
  {
   "cell_type": "code",
   "execution_count": null,
   "id": "9f901d11",
   "metadata": {},
   "outputs": [],
   "source": [
    "#try 1 attribute: restaurant name\n",
    "\n",
    "main = mains[0]\n",
    "\n",
    "name = main.find('a').text\n",
    "print('Rest_name: ' + name)"
   ]
  },
  {
   "cell_type": "code",
   "execution_count": null,
   "id": "713a4104",
   "metadata": {},
   "outputs": [],
   "source": [
    "#use loop to get the restaurant names on webpage\n",
    "\n",
    "for main in mains:\n",
    "    rest_name = main.find('a').text\n",
    "    print('Rest_name: ' + rest_name)"
   ]
  },
  {
   "cell_type": "code",
   "execution_count": null,
   "id": "dec15e40",
   "metadata": {},
   "outputs": [],
   "source": [
    "#save in a df\n",
    "\n",
    "data = {'Rest_name': []}\n",
    "\n",
    "for main in mains:\n",
    "    rest_name = main.find('a').text\n",
    "    data['Rest_name'].append(rest_name)"
   ]
  },
  {
   "cell_type": "code",
   "execution_count": null,
   "id": "3c82a151",
   "metadata": {},
   "outputs": [],
   "source": [
    "import pandas as pd\n",
    "\n",
    "df = pd.DataFrame(data)\n",
    "df"
   ]
  },
  {
   "cell_type": "code",
   "execution_count": null,
   "id": "da38c7ec",
   "metadata": {},
   "outputs": [],
   "source": [
    "#100 data points wanted\n",
    "\n",
    "data = {'Rest_name': []}\n",
    "\n",
    "for i in range(10):\n",
    "    \n",
    "    p_num = i*10\n",
    "    url = 'https://www.yelp.com/search?find_desc=Chinese&find_loc=Charleston%2C+SC&start='+'p_num'\n",
    "    req = requests.get(url)\n",
    "    webpage = req.text\n",
    "    soup = BeautifulSoup(webpage, 'html.parser')\n",
    "    mains = soup.find_all('h3', {'class': 'css-1agk4wl'})\n",
    "\n",
    "    for main in mains:\n",
    "        rest_name = main.find('a').text\n",
    "        data['Rest_name'].append(rest_name)\n",
    "    \n",
    "df = pd.DataFrame(data)\n",
    "df"
   ]
  }
 ],
 "metadata": {
  "kernelspec": {
   "display_name": "Python 3 (ipykernel)",
   "language": "python",
   "name": "python3"
  },
  "language_info": {
   "codemirror_mode": {
    "name": "ipython",
    "version": 3
   },
   "file_extension": ".py",
   "mimetype": "text/x-python",
   "name": "python",
   "nbconvert_exporter": "python",
   "pygments_lexer": "ipython3",
   "version": "3.9.13"
  }
 },
 "nbformat": 4,
 "nbformat_minor": 5
}
